{
  "nbformat": 4,
  "nbformat_minor": 0,
  "metadata": {
    "colab": {
      "provenance": []
    },
    "kernelspec": {
      "name": "python3",
      "display_name": "Python 3"
    },
    "language_info": {
      "name": "python"
    }
  },
  "cells": [
    {
      "cell_type": "markdown",
      "source": [
        "**CSST** **101** - **MP2**"
      ],
      "metadata": {
        "id": "h897Yok2ij6F"
      }
    },
    {
      "cell_type": "code",
      "execution_count": 13,
      "metadata": {
        "id": "3KRIu5KAigeW",
        "colab": {
          "base_uri": "https://localhost:8080/"
        },
        "outputId": "52c55ab3-e205-4850-f2c8-94177a991b52"
      },
      "outputs": [
        {
          "output_type": "stream",
          "name": "stdout",
          "text": [
            "AND: False\n",
            "OR: True\n",
            "NOT: False\n",
            "IMPLIES: False\n"
          ]
        }
      ],
      "source": [
        "def and_operation(p, q):\n",
        "    return p and q\n",
        "\n",
        "\n",
        "def or_operation(p, q):\n",
        "    return p or q\n",
        "\n",
        "def not_operation(p):\n",
        "    return not p\n",
        "\n",
        "def implies_operation(p, q):\n",
        "    return not p or q\n",
        "\n",
        "p = True\n",
        "q = False\n",
        "\n",
        "print(f\"AND: {and_operation(p, q)}\")\n",
        "print(f\"OR: {or_operation(p, q)}\")\n",
        "print(f\"NOT: {not_operation(p)}\")\n",
        "print(f\"IMPLIES: {implies_operation(p, q)}\")\n",
        "\n",
        "def evaluate(statement, values):\n",
        "    for proposition, truth_value in values.items():\n",
        "        statement = statement.replace(proposition, str(truth_value))\n",
        "    return eval(statement)\n"
      ]
    },
    {
      "cell_type": "code",
      "source": [
        "def evaluate(statement, values):\n",
        "\n",
        "    for proposition, truth_value in values.items():\n",
        "\n",
        "        statement = statement.replace(proposition, str(truth_value))\n",
        "\n",
        "\n",
        "    statement = statement.replace(\"and\", \"&\")\n",
        "    statement = statement.replace(\"or\", \"|\")\n",
        "    statement = statement.replace(\"not\", \"~\")\n",
        "\n",
        "    return eval(statement)"
      ],
      "metadata": {
        "id": "vVzzYsndmQBY"
      },
      "execution_count": 22,
      "outputs": []
    },
    {
      "cell_type": "code",
      "source": [
        "def forall(predicate, domain):\n",
        "    return all(predicate(x) for x in domain)\n",
        "\n",
        "def exists(predicate, domain):\n",
        "    return any(predicate(x) for x in domain)\n",
        "\n",
        "domain = [1, 2, 3, 4]\n",
        "\n",
        "predicate = lambda x: x > 0\n",
        "\n",
        "print(f\"For all x > 0: {forall(predicate, domain)}\")\n",
        "print(f\"Exists x > 2: {exists(lambda x: x > 2, domain)}\")"
      ],
      "metadata": {
        "colab": {
          "base_uri": "https://localhost:8080/"
        },
        "id": "9g2-ROaEmkeC",
        "outputId": "964b5ed0-84bf-4052-82b3-c8630d6565ff"
      },
      "execution_count": 15,
      "outputs": [
        {
          "output_type": "stream",
          "name": "stdout",
          "text": [
            "For all x > 0: True\n",
            "Exists x > 2: True\n"
          ]
        }
      ]
    },
    {
      "cell_type": "code",
      "source": [
        "\n",
        "def ai_decision(environment_conditions):\n",
        "    move = \"\"\n",
        "    if and_operation(environment_conditions['is_safe'], environment_conditions['has_resources']):\n",
        "        move = \"Move Forward\"\n",
        "    elif not_operation(environment_conditions['is_safe']):\n",
        "        move = \"Stay\"\n",
        "    else:\n",
        "        move = \"Search for Resources\"\n",
        "    return move\n",
        "\n",
        "environment_conditions = {\n",
        "    'is_safe': True,\n",
        "    'has_resources': False\n",
        "}\n",
        "\n",
        "print(f\"AI Decision: {ai_decision(environment_conditions)}\")"
      ],
      "metadata": {
        "colab": {
          "base_uri": "https://localhost:8080/"
        },
        "id": "gjjMWDQQmm_S",
        "outputId": "6709161b-11af-4279-de85-cdcc2bfb81b0"
      },
      "execution_count": 16,
      "outputs": [
        {
          "output_type": "stream",
          "name": "stdout",
          "text": [
            "AI Decision: Search for Resources\n"
          ]
        }
      ]
    }
  ]
}