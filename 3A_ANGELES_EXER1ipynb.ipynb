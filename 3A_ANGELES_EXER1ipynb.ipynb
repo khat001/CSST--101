{
  "nbformat": 4,
  "nbformat_minor": 0,
  "metadata": {
    "colab": {
      "provenance": []
    },
    "kernelspec": {
      "name": "python3",
      "display_name": "Python 3"
    },
    "language_info": {
      "name": "python"
    }
  },
  "cells": [
    {
      "cell_type": "markdown",
      "source": [
        "Exercise 1: Propositional Logic in Python"
      ],
      "metadata": {
        "id": "MJTA0zAMwOZm"
      }
    },
    {
      "cell_type": "code",
      "execution_count": 1,
      "metadata": {
        "colab": {
          "base_uri": "https://localhost:8080/"
        },
        "id": "DIxe0t1xv7T1",
        "outputId": "2dca36fa-733a-4bc3-f07a-b6536ca72122"
      },
      "outputs": [
        {
          "output_type": "stream",
          "name": "stdout",
          "text": [
            "The match will not light.\n"
          ]
        }
      ],
      "source": [
        "def check_conditions(is_raining):\n",
        "    ground_wet = False\n",
        "    match_lights = True\n",
        "\n",
        "\n",
        "    if is_raining:\n",
        "        ground_wet = True\n",
        "\n",
        "\n",
        "    if ground_wet:\n",
        "        match_lights = False\n",
        "\n",
        "    return match_lights\n",
        "\n",
        "is_raining = True\n",
        "if not check_conditions(is_raining):\n",
        "    print(\"The match will not light.\")\n",
        "else:\n",
        "    print(\"The match will light.\")"
      ]
    },
    {
      "cell_type": "markdown",
      "source": [
        "Exercise 2: Predicate Logic Representation"
      ],
      "metadata": {
        "id": "xjcovUhywvLe"
      }
    },
    {
      "cell_type": "code",
      "source": [
        "def isHuman(person):\n",
        "    return person == \"Socrates\"\n",
        "\n",
        "def isMortal(person):\n",
        "    return isHuman(person)\n",
        "\n",
        "person = \"Socrates\"\n",
        "if isMortal(person):\n",
        "    print(f\"{person} is mortal.\")\n",
        "else:\n",
        "    print(f\"{person} is not mortal.\")"
      ],
      "metadata": {
        "colab": {
          "base_uri": "https://localhost:8080/"
        },
        "id": "7dU78nsKwv7A",
        "outputId": "c323cb20-496f-4043-b099-250b10dde9de"
      },
      "execution_count": 2,
      "outputs": [
        {
          "output_type": "stream",
          "name": "stdout",
          "text": [
            "Socrates is mortal.\n"
          ]
        }
      ]
    },
    {
      "cell_type": "markdown",
      "source": [
        "Exercise 3: Inference Techniques in Logic-Based Systems"
      ],
      "metadata": {
        "id": "2fVf5boTw79S"
      }
    },
    {
      "cell_type": "code",
      "source": [
        "rules = [(\"X\", \"Y\")]\n",
        "facts = [\"X\"]\n",
        "\n",
        "def modus_ponens(rules, facts):\n",
        "    conclusions = []\n",
        "    for fact in facts:\n",
        "        for rule in rules:\n",
        "            if fact == rule[0]:\n",
        "                conclusions.append(rule[1])\n",
        "    return conclusions\n",
        "\n",
        "conclusions = modus_ponens(rules, facts)\n",
        "print(f\"Derived conclusions: {conclusions}\")"
      ],
      "metadata": {
        "colab": {
          "base_uri": "https://localhost:8080/"
        },
        "id": "VqVIwhWEw_Fd",
        "outputId": "0b34a00d-587f-47d5-af97-18d263784ed0"
      },
      "execution_count": 3,
      "outputs": [
        {
          "output_type": "stream",
          "name": "stdout",
          "text": [
            "Derived conclusions: ['Y']\n"
          ]
        }
      ]
    },
    {
      "cell_type": "markdown",
      "source": [
        "Exercise 4: Hands-on Lab - Implementing a Logic-Based Model in Python"
      ],
      "metadata": {
        "id": "vR0EAavtxNyB"
      }
    },
    {
      "cell_type": "code",
      "source": [
        "def will_eat(is_hungry):\n",
        "    ate = False\n",
        "    if is_hungry:\n",
        "        ate = True\n",
        "    return ate\n",
        "\n",
        "def is_no_longer_hungry(ate):\n",
        "    return not ate\n",
        "\n",
        "john_is_hungry = True\n",
        "john_ate = will_eat(john_is_hungry)\n",
        "if is_no_longer_hungry(john_ate):\n",
        "    print(\"John is no longer hungry.\")\n",
        "else:\n",
        "    print(\"John is still hungry.\")"
      ],
      "metadata": {
        "colab": {
          "base_uri": "https://localhost:8080/"
        },
        "id": "-PAg9gTvxQKX",
        "outputId": "80103b47-d2a3-433b-eeee-a00e127fbe01"
      },
      "execution_count": 4,
      "outputs": [
        {
          "output_type": "stream",
          "name": "stdout",
          "text": [
            "John is still hungry.\n"
          ]
        }
      ]
    }
  ]
}